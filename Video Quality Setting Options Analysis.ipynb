{
 "cells": [
  {
   "cell_type": "markdown",
   "metadata": {},
   "source": [
    "# Video Quality Analysis"
   ]
  },
  {
   "cell_type": "markdown",
   "metadata": {},
   "source": [
    "Video players / streaming platforms incur costs based on MB/s delivered. This varies when a user plays a video at specific quality settings (360p, 480p, ... , 1080p HD). The goal of this analysis is to compare a specific daterange of user viewership data and see the cost difference. The analysis compares the original viewership costs, versus an \"Adaptive\" setting - meaning that while default is 360p, if a user changes to a higher setting, the player will remember that setting for the next time, staying there until the user changes to a higher setting again."
   ]
  },
  {
   "cell_type": "code",
   "execution_count": 5,
   "metadata": {
    "collapsed": true
   },
   "outputs": [],
   "source": [
    "import pandas as pd\n",
    "import numpy as np\n",
    "from funcy import flatten"
   ]
  },
  {
   "cell_type": "markdown",
   "metadata": {},
   "source": [
    "Import data from csv. CSV data not shown to protect company privacy."
   ]
  },
  {
   "cell_type": "code",
   "execution_count": null,
   "metadata": {
    "collapsed": false
   },
   "outputs": [],
   "source": [
    "Location = 'sampledata.csv'\n",
    "csv_data = pd.read_csv(Location)\n",
    "csv_data.columns = ['userid', 'os', 'quality_status', 'total_seconds', 'distinct_id', 'video_content', 'time']"
   ]
  },
  {
   "cell_type": "markdown",
   "metadata": {},
   "source": [
    "Only looking at desktop data"
   ]
  },
  {
   "cell_type": "code",
   "execution_count": 90,
   "metadata": {
    "collapsed": false
   },
   "outputs": [],
   "source": [
    "mac_data = csv_data[csv_data.os == 'Mac OS X']\n",
    "windows_data = csv_data[csv_data.os == 'Windows']\n",
    "linux_data = csv_data[csv_data.os == 'Linux']\n",
    "os_data = pd.concat([mac_data, windows_data, linux_data], axis=0)"
   ]
  },
  {
   "cell_type": "code",
   "execution_count": 91,
   "metadata": {
    "collapsed": false
   },
   "outputs": [
    {
     "data": {
      "text/plain": [
       "array(['480p-30', '720p-60', 'DQ-DFR'], dtype=object)"
      ]
     },
     "execution_count": 91,
     "metadata": {},
     "output_type": "execute_result"
    }
   ],
   "source": [
    "interval_data = os_data.sort(['distinct_id', 'time'])\n",
    "interval_data.index = range(0,len(interval_data))\n",
    "unique_interval_distinct_id = pd.unique(interval_data.distinct_id.ravel())\n",
    "qualities = pd.unique(interval_data.quality_status.ravel())"
   ]
  },
  {
   "cell_type": "code",
   "execution_count": 93,
   "metadata": {
    "collapsed": true
   },
   "outputs": [],
   "source": [
    "qualities_level = array( [25.95, 4.47, 9.96, 25.95, 5.84, 25.95, 25.95, 4.47, 25.95, 9.96, 5.84, 9.96, 25.95, 9.96, 9.96, 25.95] )\n",
    "qualities_values = np.vstack((qualities,qualities_level)).T\n",
    "qualities_values = pd.DataFrame(qualities_values)"
   ]
  },
  {
   "cell_type": "markdown",
   "metadata": {},
   "source": [
    "Sort through data, change accordingly based on video setting."
   ]
  },
  {
   "cell_type": "code",
   "execution_count": 97,
   "metadata": {
    "collapsed": false
   },
   "outputs": [],
   "source": [
    "test = []\n",
    "total_adaptive = []\n",
    "for i in range(0, len(qualities)):\n",
    "    adaptive_indiv_br = []\n",
    "    if min(numpy.where(interval_data['distinct_id'] == unique_interval_distinct_id[i])[0]) == max(numpy.where(interval_data['distinct_id'] == unique_interval_distinct_id[i])[0]):\n",
    "        adaptive_indiv_br = qualities_level[(pd.match([(interval_data['quality_status'][i])],qualities))]\n",
    "    else:\n",
    "        adaptive_indiv_br = qualities_level[(pd.match((interval_data['quality_status'][(min(numpy.where(interval_data['distinct_id'] == unique_interval_distinct_id[i])[0])):((max(numpy.where(interval_data['distinct_id'] == unique_interval_distinct_id[i])[0])) + 1)]),qualities))]\n",
    "    test.append(adaptive_indiv_br)\n",
    "\n",
    "    new_values = []\n",
    "    new_values.append(test[i][0])\n",
    "    for x in range(1,len(adaptive_indiv_br)):\n",
    "        if adaptive_indiv_br[x] > max(adaptive_indiv_br[0:x]):\n",
    "            new_values.append(adaptive_indiv_br[x])\n",
    "        else:\n",
    "            new_values.append(max(adaptive_indiv_br[0:x]))\n",
    "    total_adaptive.append(new_values)"
   ]
  },
  {
   "cell_type": "markdown",
   "metadata": {},
   "source": [
    "find total original MB/s delivered"
   ]
  },
  {
   "cell_type": "code",
   "execution_count": 8,
   "metadata": {
    "collapsed": false
   },
   "outputs": [],
   "source": [
    "total_adaptive = flatten(total_adaptive)\n",
    "total_adaptive = numpy.round(total_adaptive,2)\n",
    "total_actual = []\n",
    "for i in range(0,len(test)):\n",
    "    total_actual.append(sum(test[i]))\n",
    "total_actual = numpy.round(total_actual,2)\n",
    "sum(total_actual)"
   ]
  },
  {
   "cell_type": "markdown",
   "metadata": {},
   "source": [
    "find difference in costs, percentage"
   ]
  },
  {
   "cell_type": "code",
   "execution_count": 7,
   "metadata": {
    "collapsed": false,
    "scrolled": true
   },
   "outputs": [],
   "source": [
    "(sum(total_adaptive) - sum(total_actual)) / sum(total_actual)"
   ]
  }
 ],
 "metadata": {
  "kernelspec": {
   "display_name": "Python 2",
   "language": "python",
   "name": "python2"
  },
  "language_info": {
   "codemirror_mode": {
    "name": "ipython",
    "version": 2
   },
   "file_extension": ".py",
   "mimetype": "text/x-python",
   "name": "python",
   "nbconvert_exporter": "python",
   "pygments_lexer": "ipython2",
   "version": "2.7.12"
  }
 },
 "nbformat": 4,
 "nbformat_minor": 0
}
